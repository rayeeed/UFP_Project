{
  "nbformat": 4,
  "nbformat_minor": 0,
  "metadata": {
    "colab": {
      "provenance": [],
      "mount_file_id": "1y3RSII-Brk-JZFdR-GeDWvEkRETKnsjD",
      "authorship_tag": "ABX9TyPKHzZVw3FFVmVAuDOfMhNP"
    },
    "kernelspec": {
      "name": "python3",
      "display_name": "Python 3"
    },
    "language_info": {
      "name": "python"
    }
  },
  "cells": [
    {
      "cell_type": "code",
      "execution_count": null,
      "metadata": {
        "id": "5a07Y8XffMqi"
      },
      "outputs": [],
      "source": [
        "import pandas as pd, numpy as np"
      ]
    },
    {
      "cell_type": "code",
      "source": [
        "df = pd.read_excel('/content/drive/MyDrive/datasets_Rayeed_GSV_POI_LU/model_35.xlsx', index_col='site_name' )"
      ],
      "metadata": {
        "id": "zoVmiIRLf3pv"
      },
      "execution_count": null,
      "outputs": []
    },
    {
      "cell_type": "code",
      "source": [
        "df.head()"
      ],
      "metadata": {
        "colab": {
          "base_uri": "https://localhost:8080/",
          "height": 339
        },
        "id": "sZTkamvhgCBl",
        "outputId": "ac1323df-13bf-49c6-9f3c-c89d5e5070f3"
      },
      "execution_count": null,
      "outputs": [
        {
          "output_type": "execute_result",
          "data": {
            "text/plain": [
              "                  Site_type   OID  Mean PNC (# / cm3)  Mean PM2.5 (µg/m3)  \\\n",
              "site_name                                                                   \n",
              "Aftabnagar      Residential  5312               60300                 105   \n",
              "Agashadek_road        Mixed  2814               60800                 114   \n",
              "Airport               Mixed  9623               56900                  90   \n",
              "Azimpur         Residential  3263               48400                  73   \n",
              "Baridhara       Residential  7241               46000                 107   \n",
              "\n",
              "                gsv_wall_p100  gsv_building_p100  gsv_house_p100  \\\n",
              "site_name                                                          \n",
              "Aftabnagar           3.690000          32.427500        0.257500   \n",
              "Agashadek_road      12.262500          39.130000        0.195000   \n",
              "Airport              6.804568          33.023806        0.231656   \n",
              "Azimpur              0.000000           0.000000        0.000000   \n",
              "Baridhara            0.000000           0.000000        0.000000   \n",
              "\n",
              "                gsv_awning_p100  gsv_sky_p100  gsv_earth_p100  ...  pop_1500  \\\n",
              "site_name                                                      ...             \n",
              "Aftabnagar             0.000000     39.310000       11.117500  ...    256068   \n",
              "Agashadek_road         0.002500     16.262500        0.995000  ...    511400   \n",
              "Airport                0.096952     19.973174        3.473092  ...     29525   \n",
              "Azimpur                0.000000      0.000000        0.000000  ...    380676   \n",
              "Baridhara              0.000000      0.000000        0.000000  ...     97209   \n",
              "\n",
              "                build_100  build_150  build_250  build_500  build_750  \\\n",
              "site_name                                                               \n",
              "Aftabnagar              0          0          0        177       1753   \n",
              "Agashadek_road        205        462       1271       4565       8308   \n",
              "Airport                 6         17         59        264        607   \n",
              "Azimpur                61        158        481       2006       4193   \n",
              "Baridhara               0          0        118        986       2476   \n",
              "\n",
              "                build_1000  build_1250  build_1500     distPrim  \n",
              "site_name                                                        \n",
              "Aftabnagar            5008        9487       14335   590.680143  \n",
              "Agashadek_road       13048       18275       23737  2194.923354  \n",
              "Airport               1056        1617        2333   379.715085  \n",
              "Azimpur               7766       12799       18346   716.846964  \n",
              "Baridhara             4194        5965        7782   263.712339  \n",
              "\n",
              "[5 rows x 361 columns]"
            ],
            "text/html": [
              "\n",
              "  <div id=\"df-7eb3884e-c897-41e8-8400-348350be2b33\" class=\"colab-df-container\">\n",
              "    <div>\n",
              "<style scoped>\n",
              "    .dataframe tbody tr th:only-of-type {\n",
              "        vertical-align: middle;\n",
              "    }\n",
              "\n",
              "    .dataframe tbody tr th {\n",
              "        vertical-align: top;\n",
              "    }\n",
              "\n",
              "    .dataframe thead th {\n",
              "        text-align: right;\n",
              "    }\n",
              "</style>\n",
              "<table border=\"1\" class=\"dataframe\">\n",
              "  <thead>\n",
              "    <tr style=\"text-align: right;\">\n",
              "      <th></th>\n",
              "      <th>Site_type</th>\n",
              "      <th>OID</th>\n",
              "      <th>Mean PNC (# / cm3)</th>\n",
              "      <th>Mean PM2.5 (µg/m3)</th>\n",
              "      <th>gsv_wall_p100</th>\n",
              "      <th>gsv_building_p100</th>\n",
              "      <th>gsv_house_p100</th>\n",
              "      <th>gsv_awning_p100</th>\n",
              "      <th>gsv_sky_p100</th>\n",
              "      <th>gsv_earth_p100</th>\n",
              "      <th>...</th>\n",
              "      <th>pop_1500</th>\n",
              "      <th>build_100</th>\n",
              "      <th>build_150</th>\n",
              "      <th>build_250</th>\n",
              "      <th>build_500</th>\n",
              "      <th>build_750</th>\n",
              "      <th>build_1000</th>\n",
              "      <th>build_1250</th>\n",
              "      <th>build_1500</th>\n",
              "      <th>distPrim</th>\n",
              "    </tr>\n",
              "    <tr>\n",
              "      <th>site_name</th>\n",
              "      <th></th>\n",
              "      <th></th>\n",
              "      <th></th>\n",
              "      <th></th>\n",
              "      <th></th>\n",
              "      <th></th>\n",
              "      <th></th>\n",
              "      <th></th>\n",
              "      <th></th>\n",
              "      <th></th>\n",
              "      <th></th>\n",
              "      <th></th>\n",
              "      <th></th>\n",
              "      <th></th>\n",
              "      <th></th>\n",
              "      <th></th>\n",
              "      <th></th>\n",
              "      <th></th>\n",
              "      <th></th>\n",
              "      <th></th>\n",
              "      <th></th>\n",
              "    </tr>\n",
              "  </thead>\n",
              "  <tbody>\n",
              "    <tr>\n",
              "      <th>Aftabnagar</th>\n",
              "      <td>Residential</td>\n",
              "      <td>5312</td>\n",
              "      <td>60300</td>\n",
              "      <td>105</td>\n",
              "      <td>3.690000</td>\n",
              "      <td>32.427500</td>\n",
              "      <td>0.257500</td>\n",
              "      <td>0.000000</td>\n",
              "      <td>39.310000</td>\n",
              "      <td>11.117500</td>\n",
              "      <td>...</td>\n",
              "      <td>256068</td>\n",
              "      <td>0</td>\n",
              "      <td>0</td>\n",
              "      <td>0</td>\n",
              "      <td>177</td>\n",
              "      <td>1753</td>\n",
              "      <td>5008</td>\n",
              "      <td>9487</td>\n",
              "      <td>14335</td>\n",
              "      <td>590.680143</td>\n",
              "    </tr>\n",
              "    <tr>\n",
              "      <th>Agashadek_road</th>\n",
              "      <td>Mixed</td>\n",
              "      <td>2814</td>\n",
              "      <td>60800</td>\n",
              "      <td>114</td>\n",
              "      <td>12.262500</td>\n",
              "      <td>39.130000</td>\n",
              "      <td>0.195000</td>\n",
              "      <td>0.002500</td>\n",
              "      <td>16.262500</td>\n",
              "      <td>0.995000</td>\n",
              "      <td>...</td>\n",
              "      <td>511400</td>\n",
              "      <td>205</td>\n",
              "      <td>462</td>\n",
              "      <td>1271</td>\n",
              "      <td>4565</td>\n",
              "      <td>8308</td>\n",
              "      <td>13048</td>\n",
              "      <td>18275</td>\n",
              "      <td>23737</td>\n",
              "      <td>2194.923354</td>\n",
              "    </tr>\n",
              "    <tr>\n",
              "      <th>Airport</th>\n",
              "      <td>Mixed</td>\n",
              "      <td>9623</td>\n",
              "      <td>56900</td>\n",
              "      <td>90</td>\n",
              "      <td>6.804568</td>\n",
              "      <td>33.023806</td>\n",
              "      <td>0.231656</td>\n",
              "      <td>0.096952</td>\n",
              "      <td>19.973174</td>\n",
              "      <td>3.473092</td>\n",
              "      <td>...</td>\n",
              "      <td>29525</td>\n",
              "      <td>6</td>\n",
              "      <td>17</td>\n",
              "      <td>59</td>\n",
              "      <td>264</td>\n",
              "      <td>607</td>\n",
              "      <td>1056</td>\n",
              "      <td>1617</td>\n",
              "      <td>2333</td>\n",
              "      <td>379.715085</td>\n",
              "    </tr>\n",
              "    <tr>\n",
              "      <th>Azimpur</th>\n",
              "      <td>Residential</td>\n",
              "      <td>3263</td>\n",
              "      <td>48400</td>\n",
              "      <td>73</td>\n",
              "      <td>0.000000</td>\n",
              "      <td>0.000000</td>\n",
              "      <td>0.000000</td>\n",
              "      <td>0.000000</td>\n",
              "      <td>0.000000</td>\n",
              "      <td>0.000000</td>\n",
              "      <td>...</td>\n",
              "      <td>380676</td>\n",
              "      <td>61</td>\n",
              "      <td>158</td>\n",
              "      <td>481</td>\n",
              "      <td>2006</td>\n",
              "      <td>4193</td>\n",
              "      <td>7766</td>\n",
              "      <td>12799</td>\n",
              "      <td>18346</td>\n",
              "      <td>716.846964</td>\n",
              "    </tr>\n",
              "    <tr>\n",
              "      <th>Baridhara</th>\n",
              "      <td>Residential</td>\n",
              "      <td>7241</td>\n",
              "      <td>46000</td>\n",
              "      <td>107</td>\n",
              "      <td>0.000000</td>\n",
              "      <td>0.000000</td>\n",
              "      <td>0.000000</td>\n",
              "      <td>0.000000</td>\n",
              "      <td>0.000000</td>\n",
              "      <td>0.000000</td>\n",
              "      <td>...</td>\n",
              "      <td>97209</td>\n",
              "      <td>0</td>\n",
              "      <td>0</td>\n",
              "      <td>118</td>\n",
              "      <td>986</td>\n",
              "      <td>2476</td>\n",
              "      <td>4194</td>\n",
              "      <td>5965</td>\n",
              "      <td>7782</td>\n",
              "      <td>263.712339</td>\n",
              "    </tr>\n",
              "  </tbody>\n",
              "</table>\n",
              "<p>5 rows × 361 columns</p>\n",
              "</div>\n",
              "    <div class=\"colab-df-buttons\">\n",
              "\n",
              "  <div class=\"colab-df-container\">\n",
              "    <button class=\"colab-df-convert\" onclick=\"convertToInteractive('df-7eb3884e-c897-41e8-8400-348350be2b33')\"\n",
              "            title=\"Convert this dataframe to an interactive table.\"\n",
              "            style=\"display:none;\">\n",
              "\n",
              "  <svg xmlns=\"http://www.w3.org/2000/svg\" height=\"24px\" viewBox=\"0 -960 960 960\">\n",
              "    <path d=\"M120-120v-720h720v720H120Zm60-500h600v-160H180v160Zm220 220h160v-160H400v160Zm0 220h160v-160H400v160ZM180-400h160v-160H180v160Zm440 0h160v-160H620v160ZM180-180h160v-160H180v160Zm440 0h160v-160H620v160Z\"/>\n",
              "  </svg>\n",
              "    </button>\n",
              "\n",
              "  <style>\n",
              "    .colab-df-container {\n",
              "      display:flex;\n",
              "      gap: 12px;\n",
              "    }\n",
              "\n",
              "    .colab-df-convert {\n",
              "      background-color: #E8F0FE;\n",
              "      border: none;\n",
              "      border-radius: 50%;\n",
              "      cursor: pointer;\n",
              "      display: none;\n",
              "      fill: #1967D2;\n",
              "      height: 32px;\n",
              "      padding: 0 0 0 0;\n",
              "      width: 32px;\n",
              "    }\n",
              "\n",
              "    .colab-df-convert:hover {\n",
              "      background-color: #E2EBFA;\n",
              "      box-shadow: 0px 1px 2px rgba(60, 64, 67, 0.3), 0px 1px 3px 1px rgba(60, 64, 67, 0.15);\n",
              "      fill: #174EA6;\n",
              "    }\n",
              "\n",
              "    .colab-df-buttons div {\n",
              "      margin-bottom: 4px;\n",
              "    }\n",
              "\n",
              "    [theme=dark] .colab-df-convert {\n",
              "      background-color: #3B4455;\n",
              "      fill: #D2E3FC;\n",
              "    }\n",
              "\n",
              "    [theme=dark] .colab-df-convert:hover {\n",
              "      background-color: #434B5C;\n",
              "      box-shadow: 0px 1px 3px 1px rgba(0, 0, 0, 0.15);\n",
              "      filter: drop-shadow(0px 1px 2px rgba(0, 0, 0, 0.3));\n",
              "      fill: #FFFFFF;\n",
              "    }\n",
              "  </style>\n",
              "\n",
              "    <script>\n",
              "      const buttonEl =\n",
              "        document.querySelector('#df-7eb3884e-c897-41e8-8400-348350be2b33 button.colab-df-convert');\n",
              "      buttonEl.style.display =\n",
              "        google.colab.kernel.accessAllowed ? 'block' : 'none';\n",
              "\n",
              "      async function convertToInteractive(key) {\n",
              "        const element = document.querySelector('#df-7eb3884e-c897-41e8-8400-348350be2b33');\n",
              "        const dataTable =\n",
              "          await google.colab.kernel.invokeFunction('convertToInteractive',\n",
              "                                                    [key], {});\n",
              "        if (!dataTable) return;\n",
              "\n",
              "        const docLinkHtml = 'Like what you see? Visit the ' +\n",
              "          '<a target=\"_blank\" href=https://colab.research.google.com/notebooks/data_table.ipynb>data table notebook</a>'\n",
              "          + ' to learn more about interactive tables.';\n",
              "        element.innerHTML = '';\n",
              "        dataTable['output_type'] = 'display_data';\n",
              "        await google.colab.output.renderOutput(dataTable, element);\n",
              "        const docLink = document.createElement('div');\n",
              "        docLink.innerHTML = docLinkHtml;\n",
              "        element.appendChild(docLink);\n",
              "      }\n",
              "    </script>\n",
              "  </div>\n",
              "\n",
              "\n",
              "<div id=\"df-1b5d454d-5f4e-4a0b-a909-b2a528b31eb3\">\n",
              "  <button class=\"colab-df-quickchart\" onclick=\"quickchart('df-1b5d454d-5f4e-4a0b-a909-b2a528b31eb3')\"\n",
              "            title=\"Suggest charts\"\n",
              "            style=\"display:none;\">\n",
              "\n",
              "<svg xmlns=\"http://www.w3.org/2000/svg\" height=\"24px\"viewBox=\"0 0 24 24\"\n",
              "     width=\"24px\">\n",
              "    <g>\n",
              "        <path d=\"M19 3H5c-1.1 0-2 .9-2 2v14c0 1.1.9 2 2 2h14c1.1 0 2-.9 2-2V5c0-1.1-.9-2-2-2zM9 17H7v-7h2v7zm4 0h-2V7h2v10zm4 0h-2v-4h2v4z\"/>\n",
              "    </g>\n",
              "</svg>\n",
              "  </button>\n",
              "\n",
              "<style>\n",
              "  .colab-df-quickchart {\n",
              "      --bg-color: #E8F0FE;\n",
              "      --fill-color: #1967D2;\n",
              "      --hover-bg-color: #E2EBFA;\n",
              "      --hover-fill-color: #174EA6;\n",
              "      --disabled-fill-color: #AAA;\n",
              "      --disabled-bg-color: #DDD;\n",
              "  }\n",
              "\n",
              "  [theme=dark] .colab-df-quickchart {\n",
              "      --bg-color: #3B4455;\n",
              "      --fill-color: #D2E3FC;\n",
              "      --hover-bg-color: #434B5C;\n",
              "      --hover-fill-color: #FFFFFF;\n",
              "      --disabled-bg-color: #3B4455;\n",
              "      --disabled-fill-color: #666;\n",
              "  }\n",
              "\n",
              "  .colab-df-quickchart {\n",
              "    background-color: var(--bg-color);\n",
              "    border: none;\n",
              "    border-radius: 50%;\n",
              "    cursor: pointer;\n",
              "    display: none;\n",
              "    fill: var(--fill-color);\n",
              "    height: 32px;\n",
              "    padding: 0;\n",
              "    width: 32px;\n",
              "  }\n",
              "\n",
              "  .colab-df-quickchart:hover {\n",
              "    background-color: var(--hover-bg-color);\n",
              "    box-shadow: 0 1px 2px rgba(60, 64, 67, 0.3), 0 1px 3px 1px rgba(60, 64, 67, 0.15);\n",
              "    fill: var(--button-hover-fill-color);\n",
              "  }\n",
              "\n",
              "  .colab-df-quickchart-complete:disabled,\n",
              "  .colab-df-quickchart-complete:disabled:hover {\n",
              "    background-color: var(--disabled-bg-color);\n",
              "    fill: var(--disabled-fill-color);\n",
              "    box-shadow: none;\n",
              "  }\n",
              "\n",
              "  .colab-df-spinner {\n",
              "    border: 2px solid var(--fill-color);\n",
              "    border-color: transparent;\n",
              "    border-bottom-color: var(--fill-color);\n",
              "    animation:\n",
              "      spin 1s steps(1) infinite;\n",
              "  }\n",
              "\n",
              "  @keyframes spin {\n",
              "    0% {\n",
              "      border-color: transparent;\n",
              "      border-bottom-color: var(--fill-color);\n",
              "      border-left-color: var(--fill-color);\n",
              "    }\n",
              "    20% {\n",
              "      border-color: transparent;\n",
              "      border-left-color: var(--fill-color);\n",
              "      border-top-color: var(--fill-color);\n",
              "    }\n",
              "    30% {\n",
              "      border-color: transparent;\n",
              "      border-left-color: var(--fill-color);\n",
              "      border-top-color: var(--fill-color);\n",
              "      border-right-color: var(--fill-color);\n",
              "    }\n",
              "    40% {\n",
              "      border-color: transparent;\n",
              "      border-right-color: var(--fill-color);\n",
              "      border-top-color: var(--fill-color);\n",
              "    }\n",
              "    60% {\n",
              "      border-color: transparent;\n",
              "      border-right-color: var(--fill-color);\n",
              "    }\n",
              "    80% {\n",
              "      border-color: transparent;\n",
              "      border-right-color: var(--fill-color);\n",
              "      border-bottom-color: var(--fill-color);\n",
              "    }\n",
              "    90% {\n",
              "      border-color: transparent;\n",
              "      border-bottom-color: var(--fill-color);\n",
              "    }\n",
              "  }\n",
              "</style>\n",
              "\n",
              "  <script>\n",
              "    async function quickchart(key) {\n",
              "      const quickchartButtonEl =\n",
              "        document.querySelector('#' + key + ' button');\n",
              "      quickchartButtonEl.disabled = true;  // To prevent multiple clicks.\n",
              "      quickchartButtonEl.classList.add('colab-df-spinner');\n",
              "      try {\n",
              "        const charts = await google.colab.kernel.invokeFunction(\n",
              "            'suggestCharts', [key], {});\n",
              "      } catch (error) {\n",
              "        console.error('Error during call to suggestCharts:', error);\n",
              "      }\n",
              "      quickchartButtonEl.classList.remove('colab-df-spinner');\n",
              "      quickchartButtonEl.classList.add('colab-df-quickchart-complete');\n",
              "    }\n",
              "    (() => {\n",
              "      let quickchartButtonEl =\n",
              "        document.querySelector('#df-1b5d454d-5f4e-4a0b-a909-b2a528b31eb3 button');\n",
              "      quickchartButtonEl.style.display =\n",
              "        google.colab.kernel.accessAllowed ? 'block' : 'none';\n",
              "    })();\n",
              "  </script>\n",
              "</div>\n",
              "\n",
              "    </div>\n",
              "  </div>\n"
            ],
            "application/vnd.google.colaboratory.intrinsic+json": {
              "type": "dataframe",
              "variable_name": "df"
            }
          },
          "metadata": {},
          "execution_count": 3
        }
      ]
    },
    {
      "cell_type": "code",
      "source": [
        "df['build_250'].hist()"
      ],
      "metadata": {
        "colab": {
          "base_uri": "https://localhost:8080/",
          "height": 447
        },
        "id": "Kakfkbq9gD7v",
        "outputId": "e9b00d58-9886-4c83-d31f-d7e78e188581"
      },
      "execution_count": null,
      "outputs": [
        {
          "output_type": "execute_result",
          "data": {
            "text/plain": [
              "<Axes: >"
            ]
          },
          "metadata": {},
          "execution_count": 9
        },
        {
          "output_type": "display_data",
          "data": {
            "text/plain": [
              "<Figure size 640x480 with 1 Axes>"
            ],
            "image/png": "[encoded data removed]"
          },
          "metadata": {}
        }
      ]
    },
    {
      "cell_type": "code",
      "source": [
        "# Extract column names\n",
        "column_names = df.columns\n",
        "\n",
        "# Extract unique prefixes\n",
        "prefixes = set()\n",
        "for name in column_names:\n",
        "    prefix = name.split('_')[0]\n",
        "    prefixes.add(prefix)\n",
        "\n",
        "# Convert set to list and sort\n",
        "unique_prefixes = sorted(list(prefixes))\n",
        "\n",
        "print(unique_prefixes)"
      ],
      "metadata": {
        "colab": {
          "base_uri": "https://localhost:8080/"
        },
        "id": "Bt2WgN5NjaXy",
        "outputId": "3ee2d2c9-06b3-4e97-f898-057ef82551ef"
      },
      "execution_count": null,
      "outputs": [
        {
          "output_type": "stream",
          "name": "stdout",
          "text": [
            "['Mean PM2.5 (µg/m3)', 'Mean PNC (# / cm3)', 'OID', 'RdAll', 'RdL1', 'RdL2', 'RdL3', 'RdL4', 'RdclP', 'RdclS', 'RdclT', 'Site', 'build', 'distPrim', 'gsv', 'land', 'pop', 'rest']\n"
          ]
        }
      ]
    },
    {
      "cell_type": "code",
      "source": [
        "df['RdclP_250'].hist()"
      ],
      "metadata": {
        "colab": {
          "base_uri": "https://localhost:8080/",
          "height": 447
        },
        "id": "D5Y8-J5GkCUk",
        "outputId": "d4d1b367-4fd9-4b0c-fd06-c34bf7bba384"
      },
      "execution_count": null,
      "outputs": [
        {
          "output_type": "execute_result",
          "data": {
            "text/plain": [
              "<Axes: >"
            ]
          },
          "metadata": {},
          "execution_count": 19
        },
        {
          "output_type": "display_data",
          "data": {
            "text/plain": [
              "<Figure size 640x480 with 1 Axes>"
            ],
            "image/png": "[encoded data removed]"
          },
          "metadata": {}
        }
      ]
    },
    {
      "cell_type": "code",
      "source": [
        "df['distPrim'].hist()"
      ],
      "metadata": {
        "colab": {
          "base_uri": "https://localhost:8080/",
          "height": 447
        },
        "id": "AFDIkKuikUgD",
        "outputId": "8053ed97-ecf8-4f89-8adc-2b93048f3619"
      },
      "execution_count": null,
      "outputs": [
        {
          "output_type": "execute_result",
          "data": {
            "text/plain": [
              "<Axes: >"
            ]
          },
          "metadata": {},
          "execution_count": 20
        },
        {
          "output_type": "display_data",
          "data": {
            "text/plain": [
              "<Figure size 640x480 with 1 Axes>"
            ],
            "image/png": "[encoded data removed]"
          },
          "metadata": {}
        }
      ]
    },
    {
      "cell_type": "code",
      "source": [
        "print(df.columns)"
      ],
      "metadata": {
        "colab": {
          "base_uri": "https://localhost:8080/"
        },
        "id": "oDesYMEMlc1h",
        "outputId": "179bf840-44cb-48ff-987f-25cc4b306273"
      },
      "execution_count": null,
      "outputs": [
        {
          "output_type": "stream",
          "name": "stdout",
          "text": [
            "Index(['Site_type', 'OID', 'Mean PNC (# / cm3)', 'Mean PM2.5 (µg/m3)',\n",
            "       'gsv_wall_p100', 'gsv_building_p100', 'gsv_house_p100',\n",
            "       'gsv_awning_p100', 'gsv_sky_p100', 'gsv_earth_p100',\n",
            "       ...\n",
            "       'pop_1500', 'build_100', 'build_150', 'build_250', 'build_500',\n",
            "       'build_750', 'build_1000', 'build_1250', 'build_1500', 'distPrim'],\n",
            "      dtype='object', length=361)\n"
          ]
        }
      ]
    },
    {
      "cell_type": "code",
      "source": [
        "df['rest_s250'].hist()"
      ],
      "metadata": {
        "colab": {
          "base_uri": "https://localhost:8080/",
          "height": 447
        },
        "id": "MOcBmZHolS3i",
        "outputId": "6cb2464e-34cc-4fc3-8e66-fb00d2bc2d41"
      },
      "execution_count": null,
      "outputs": [
        {
          "output_type": "execute_result",
          "data": {
            "text/plain": [
              "<Axes: >"
            ]
          },
          "metadata": {},
          "execution_count": 28
        },
        {
          "output_type": "display_data",
          "data": {
            "text/plain": [
              "<Figure size 640x480 with 1 Axes>"
            ],
            "image/png": "[encoded data removed]"
          },
          "metadata": {}
        }
      ]
    },
    {
      "cell_type": "code",
      "source": [
        "# Columns to exclude from log transformation\n",
        "exclude_columns = ['Site_type', 'OID', 'Mean PNC (# / cm3)', 'Mean PM2.5 (µg/m3)']\n",
        "exclude_columns += [col for col in df.columns if col.startswith('gsv')]\n",
        "\n",
        "# Apply log transformation to other columns\n",
        "for col in df.columns:\n",
        "    if col not in exclude_columns:\n",
        "        df[col] = np.log(df[col] + 1)"
      ],
      "metadata": {
        "id": "3f_NjbqvmGhT"
      },
      "execution_count": null,
      "outputs": []
    }
  ]
}