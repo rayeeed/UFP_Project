{
  "nbformat": 4,
  "nbformat_minor": 0,
  "metadata": {
    "colab": {
      "provenance": [],
      "authorship_tag": "ABX9TyMqHBc+PZIHKt54zMhInSog",
      "include_colab_link": true
    },
    "kernelspec": {
      "name": "python3",
      "display_name": "Python 3"
    },
    "language_info": {
      "name": "python"
    }
  },
  "cells": [
    {
      "cell_type": "markdown",
      "metadata": {
        "id": "view-in-github",
        "colab_type": "text"
      },
      "source": [
        "<a href=\"https://colab.research.google.com/github/rayeeed/UFP_Project/blob/main/POImerger.ipynb\" target=\"_parent\"><img src=\"https://colab.research.google.com/assets/colab-badge.svg\" alt=\"Open In Colab\"/></a>"
      ]
    },
    {
      "cell_type": "code",
      "execution_count": null,
      "metadata": {
        "id": "_dZcfcITVbgk"
      },
      "outputs": [],
      "source": [
        "import pandas as pd"
      ]
    },
    {
      "cell_type": "code",
      "source": [
        "df2=pd.read_csv('/content/extractedData2-4.csv')\n",
        "df4=pd.read_csv('/content/extractedData6-8.csv')\n",
        "df3=pd.read_csv('/content/extractedData4-6.csv')\n",
        "df1=pd.read_csv('/content/extractedData_1_2000.csv')\n",
        "df5=pd.read_csv('/content/extractedData8-10.csv')"
      ],
      "metadata": {
        "id": "M6sG2iuhXX-m"
      },
      "execution_count": null,
      "outputs": []
    },
    {
      "cell_type": "code",
      "source": [
        "frames = [df1, df2, df3,df4,df5]"
      ],
      "metadata": {
        "id": "0pOdiM01X1eO"
      },
      "execution_count": null,
      "outputs": []
    },
    {
      "cell_type": "code",
      "source": [
        "result = pd.concat(frames,ignore_index=True)"
      ],
      "metadata": {
        "id": "7XIU-QTIX7xL"
      },
      "execution_count": null,
      "outputs": []
    },
    {
      "cell_type": "code",
      "source": [
        "result.shape"
      ],
      "metadata": {
        "colab": {
          "base_uri": "https://localhost:8080/"
        },
        "id": "WUBUQyWrZvGN",
        "outputId": "690a2868-9565-4979-fc65-8c92c8906f61"
      },
      "execution_count": null,
      "outputs": [
        {
          "output_type": "execute_result",
          "data": {
            "text/plain": [
              "(2641, 151)"
            ]
          },
          "metadata": {},
          "execution_count": 5
        }
      ]
    },
    {
      "cell_type": "code",
      "source": [
        "result.drop_duplicates(subset =\"Place ID\",keep = 'first', inplace = True)"
      ],
      "metadata": {
        "id": "HzBZAqbSeWKL"
      },
      "execution_count": null,
      "outputs": []
    },
    {
      "cell_type": "code",
      "source": [
        "result.shape"
      ],
      "metadata": {
        "colab": {
          "base_uri": "https://localhost:8080/"
        },
        "id": "62wFwgYNyvh-",
        "outputId": "5ea37292-e184-49fb-cfee-377deaeac946"
      },
      "execution_count": null,
      "outputs": [
        {
          "output_type": "execute_result",
          "data": {
            "text/plain": [
              "(2734, 4)"
            ]
          },
          "metadata": {},
          "execution_count": 7
        }
      ]
    },
    {
      "cell_type": "code",
      "source": [
        "result.to_csv('completed.csv')"
      ],
      "metadata": {
        "id": "3b3VasTtedM1"
      },
      "execution_count": null,
      "outputs": []
    },
    {
      "cell_type": "code",
      "source": [
        "finale=pd.read_csv('/content/completed (1).csv')\n",
        "finale.head()"
      ],
      "metadata": {
        "colab": {
          "base_uri": "https://localhost:8080/",
          "height": 206
        },
        "id": "XM60EC5ivm-M",
        "outputId": "375727bb-7bd3-4db8-84f8-fda5634db32b"
      },
      "execution_count": null,
      "outputs": [
        {
          "output_type": "execute_result",
          "data": {
            "text/html": [
              "<div>\n",
              "<style scoped>\n",
              "    .dataframe tbody tr th:only-of-type {\n",
              "        vertical-align: middle;\n",
              "    }\n",
              "\n",
              "    .dataframe tbody tr th {\n",
              "        vertical-align: top;\n",
              "    }\n",
              "\n",
              "    .dataframe thead th {\n",
              "        text-align: right;\n",
              "    }\n",
              "</style>\n",
              "<table border=\"1\" class=\"dataframe\">\n",
              "  <thead>\n",
              "    <tr style=\"text-align: right;\">\n",
              "      <th></th>\n",
              "      <th>Place Name</th>\n",
              "      <th>Place ID</th>\n",
              "      <th>Latitude</th>\n",
              "      <th>Longitude</th>\n",
              "    </tr>\n",
              "  </thead>\n",
              "  <tbody>\n",
              "    <tr>\n",
              "      <th>0</th>\n",
              "      <td>Foods Club Restaurant</td>\n",
              "      <td>ChIJEc4oJobHVTcRdr8w915_sjA</td>\n",
              "      <td>23.766363</td>\n",
              "      <td>90.421777</td>\n",
              "    </tr>\n",
              "    <tr>\n",
              "      <th>1</th>\n",
              "      <td>The Wind Lounge</td>\n",
              "      <td>ChIJX65wi0DHVTcR7kr9M507JwA</td>\n",
              "      <td>23.766366</td>\n",
              "      <td>90.421769</td>\n",
              "    </tr>\n",
              "    <tr>\n",
              "      <th>2</th>\n",
              "      <td>Al Kaderia Hotel &amp; restaurant</td>\n",
              "      <td>ChIJ96wmo2vHVTcRYZK1xQoIzRM</td>\n",
              "      <td>23.764309</td>\n",
              "      <td>90.423123</td>\n",
              "    </tr>\n",
              "    <tr>\n",
              "      <th>3</th>\n",
              "      <td>ANAS CAFE Thai Chinese Restaurent</td>\n",
              "      <td>ChIJYSM-w4fHVTcRCUQUEKivI5w</td>\n",
              "      <td>23.764462</td>\n",
              "      <td>90.421284</td>\n",
              "    </tr>\n",
              "    <tr>\n",
              "      <th>4</th>\n",
              "      <td>Chilis restaurant &amp; party center, banasree</td>\n",
              "      <td>ChIJ4T5MAeHHVTcRN-F0ucGtmZ0</td>\n",
              "      <td>23.766175</td>\n",
              "      <td>90.425884</td>\n",
              "    </tr>\n",
              "  </tbody>\n",
              "</table>\n",
              "</div>"
            ],
            "text/plain": [
              "                                   Place Name  ...  Longitude\n",
              "0                       Foods Club Restaurant  ...  90.421777\n",
              "1                             The Wind Lounge  ...  90.421769\n",
              "2               Al Kaderia Hotel & restaurant  ...  90.423123\n",
              "3           ANAS CAFE Thai Chinese Restaurent  ...  90.421284\n",
              "4  Chilis restaurant & party center, banasree  ...  90.425884\n",
              "\n",
              "[5 rows x 4 columns]"
            ]
          },
          "metadata": {},
          "execution_count": 11
        }
      ]
    },
    {
      "cell_type": "code",
      "source": [
        "finale.sort_values(\"Place ID\", inplace = True)"
      ],
      "metadata": {
        "id": "xOj-yCeQwqnx"
      },
      "execution_count": null,
      "outputs": []
    },
    {
      "cell_type": "code",
      "source": [
        "finale.head()"
      ],
      "metadata": {
        "colab": {
          "base_uri": "https://localhost:8080/",
          "height": 206
        },
        "id": "mrnIYbPbwwq8",
        "outputId": "a759d652-3559-476f-833d-d07fecb5d27a"
      },
      "execution_count": null,
      "outputs": [
        {
          "output_type": "execute_result",
          "data": {
            "text/html": [
              "<div>\n",
              "<style scoped>\n",
              "    .dataframe tbody tr th:only-of-type {\n",
              "        vertical-align: middle;\n",
              "    }\n",
              "\n",
              "    .dataframe tbody tr th {\n",
              "        vertical-align: top;\n",
              "    }\n",
              "\n",
              "    .dataframe thead th {\n",
              "        text-align: right;\n",
              "    }\n",
              "</style>\n",
              "<table border=\"1\" class=\"dataframe\">\n",
              "  <thead>\n",
              "    <tr style=\"text-align: right;\">\n",
              "      <th></th>\n",
              "      <th>Place Name</th>\n",
              "      <th>Place ID</th>\n",
              "      <th>Latitude</th>\n",
              "      <th>Longitude</th>\n",
              "    </tr>\n",
              "  </thead>\n",
              "  <tbody>\n",
              "    <tr>\n",
              "      <th>45021</th>\n",
              "      <td>Al Aqsa Restaurant</td>\n",
              "      <td>ChIJ--IVv6rHVTcR5AeUazd5OiE</td>\n",
              "      <td>23.809117</td>\n",
              "      <td>90.413605</td>\n",
              "    </tr>\n",
              "    <tr>\n",
              "      <th>45254</th>\n",
              "      <td>Alauddin Hotel &amp; Restaurant</td>\n",
              "      <td>ChIJ--ZQoMrHVTcRIvtmtwKuqWs</td>\n",
              "      <td>23.808788</td>\n",
              "      <td>90.430442</td>\n",
              "    </tr>\n",
              "    <tr>\n",
              "      <th>42193</th>\n",
              "      <td>Alauddin Hotel &amp; Restaurant</td>\n",
              "      <td>ChIJ--ZQoMrHVTcRIvtmtwKuqWs</td>\n",
              "      <td>23.808788</td>\n",
              "      <td>90.430442</td>\n",
              "    </tr>\n",
              "    <tr>\n",
              "      <th>46270</th>\n",
              "      <td>Alauddin Hotel &amp; Restaurant</td>\n",
              "      <td>ChIJ--ZQoMrHVTcRIvtmtwKuqWs</td>\n",
              "      <td>23.808788</td>\n",
              "      <td>90.430442</td>\n",
              "    </tr>\n",
              "    <tr>\n",
              "      <th>46326</th>\n",
              "      <td>Alauddin Hotel &amp; Restaurant</td>\n",
              "      <td>ChIJ--ZQoMrHVTcRIvtmtwKuqWs</td>\n",
              "      <td>23.808788</td>\n",
              "      <td>90.430442</td>\n",
              "    </tr>\n",
              "  </tbody>\n",
              "</table>\n",
              "</div>"
            ],
            "text/plain": [
              "                        Place Name  ...  Longitude\n",
              "45021           Al Aqsa Restaurant  ...  90.413605\n",
              "45254  Alauddin Hotel & Restaurant  ...  90.430442\n",
              "42193  Alauddin Hotel & Restaurant  ...  90.430442\n",
              "46270  Alauddin Hotel & Restaurant  ...  90.430442\n",
              "46326  Alauddin Hotel & Restaurant  ...  90.430442\n",
              "\n",
              "[5 rows x 4 columns]"
            ]
          },
          "metadata": {},
          "execution_count": 13
        }
      ]
    },
    {
      "cell_type": "code",
      "source": [
        "finale.drop_duplicates(subset =\"Place ID\",keep = False, inplace = True)"
      ],
      "metadata": {
        "id": "KwKM_WD3w8-v"
      },
      "execution_count": null,
      "outputs": []
    },
    {
      "cell_type": "code",
      "source": [
        "finale.shape"
      ],
      "metadata": {
        "colab": {
          "base_uri": "https://localhost:8080/"
        },
        "id": "nvRBuY9UxF8w",
        "outputId": "fa910451-03cc-42a0-bf13-5e6bf6007e2a"
      },
      "execution_count": null,
      "outputs": [
        {
          "output_type": "execute_result",
          "data": {
            "text/plain": [
              "(450, 4)"
            ]
          },
          "metadata": {},
          "execution_count": 15
        }
      ]
    },
    {
      "cell_type": "code",
      "source": [
        "finale.drop_duplicates(keep=\"first\")"
      ],
      "metadata": {
        "colab": {
          "base_uri": "https://localhost:8080/",
          "height": 424
        },
        "id": "FTCIrFQzvvNv",
        "outputId": "10f945fc-647f-4134-f082-175f40203e70"
      },
      "execution_count": null,
      "outputs": [
        {
          "output_type": "execute_result",
          "data": {
            "text/html": [
              "<div>\n",
              "<style scoped>\n",
              "    .dataframe tbody tr th:only-of-type {\n",
              "        vertical-align: middle;\n",
              "    }\n",
              "\n",
              "    .dataframe tbody tr th {\n",
              "        vertical-align: top;\n",
              "    }\n",
              "\n",
              "    .dataframe thead th {\n",
              "        text-align: right;\n",
              "    }\n",
              "</style>\n",
              "<table border=\"1\" class=\"dataframe\">\n",
              "  <thead>\n",
              "    <tr style=\"text-align: right;\">\n",
              "      <th></th>\n",
              "      <th>Place Name</th>\n",
              "      <th>Place ID</th>\n",
              "      <th>Latitude</th>\n",
              "      <th>Longitude</th>\n",
              "    </tr>\n",
              "  </thead>\n",
              "  <tbody>\n",
              "    <tr>\n",
              "      <th>0</th>\n",
              "      <td>Foods Club Restaurant</td>\n",
              "      <td>ChIJEc4oJobHVTcRdr8w915_sjA</td>\n",
              "      <td>23.766363</td>\n",
              "      <td>90.421777</td>\n",
              "    </tr>\n",
              "    <tr>\n",
              "      <th>1</th>\n",
              "      <td>The Wind Lounge</td>\n",
              "      <td>ChIJX65wi0DHVTcR7kr9M507JwA</td>\n",
              "      <td>23.766366</td>\n",
              "      <td>90.421769</td>\n",
              "    </tr>\n",
              "    <tr>\n",
              "      <th>2</th>\n",
              "      <td>Al Kaderia Hotel &amp; restaurant</td>\n",
              "      <td>ChIJ96wmo2vHVTcRYZK1xQoIzRM</td>\n",
              "      <td>23.764309</td>\n",
              "      <td>90.423123</td>\n",
              "    </tr>\n",
              "    <tr>\n",
              "      <th>3</th>\n",
              "      <td>ANAS CAFE Thai Chinese Restaurent</td>\n",
              "      <td>ChIJYSM-w4fHVTcRCUQUEKivI5w</td>\n",
              "      <td>23.764462</td>\n",
              "      <td>90.421284</td>\n",
              "    </tr>\n",
              "    <tr>\n",
              "      <th>4</th>\n",
              "      <td>Chilis restaurant &amp; party center, banasree</td>\n",
              "      <td>ChIJ4T5MAeHHVTcRN-F0ucGtmZ0</td>\n",
              "      <td>23.766175</td>\n",
              "      <td>90.425884</td>\n",
              "    </tr>\n",
              "    <tr>\n",
              "      <th>...</th>\n",
              "      <td>...</td>\n",
              "      <td>...</td>\n",
              "      <td>...</td>\n",
              "      <td>...</td>\n",
              "    </tr>\n",
              "    <tr>\n",
              "      <th>61817</th>\n",
              "      <td>Tasty Treat-Tongi Bazar টেস্টি ট্রিট- টংগী বাজার</td>\n",
              "      <td>ChIJw-FlFyLFVTcR6JOJbUarA9Q</td>\n",
              "      <td>23.885831</td>\n",
              "      <td>90.401566</td>\n",
              "    </tr>\n",
              "    <tr>\n",
              "      <th>61820</th>\n",
              "      <td>Haresa Enterprise</td>\n",
              "      <td>ChIJoxxQ7BbFVTcRQxPhJDr1IDg</td>\n",
              "      <td>23.884814</td>\n",
              "      <td>90.402554</td>\n",
              "    </tr>\n",
              "    <tr>\n",
              "      <th>61831</th>\n",
              "      <td>Mamas Chotpoti Fuska</td>\n",
              "      <td>ChIJf9JU0vfFVTcRhmCQs-d83H8</td>\n",
              "      <td>23.882537</td>\n",
              "      <td>90.404019</td>\n",
              "    </tr>\n",
              "    <tr>\n",
              "      <th>61845</th>\n",
              "      <td>Maa Hotel And Restaurant</td>\n",
              "      <td>ChIJRf2RzkfEVTcRn02WdYXZHWI</td>\n",
              "      <td>23.884281</td>\n",
              "      <td>90.402321</td>\n",
              "    </tr>\n",
              "    <tr>\n",
              "      <th>61882</th>\n",
              "      <td>Sohana Fast food</td>\n",
              "      <td>ChIJtx7UUDjEVTcRloujHEiun8U</td>\n",
              "      <td>23.879351</td>\n",
              "      <td>90.401050</td>\n",
              "    </tr>\n",
              "  </tbody>\n",
              "</table>\n",
              "<p>2734 rows × 4 columns</p>\n",
              "</div>"
            ],
            "text/plain": [
              "                                             Place Name  ...  Longitude\n",
              "0                                 Foods Club Restaurant  ...  90.421777\n",
              "1                                       The Wind Lounge  ...  90.421769\n",
              "2                         Al Kaderia Hotel & restaurant  ...  90.423123\n",
              "3                     ANAS CAFE Thai Chinese Restaurent  ...  90.421284\n",
              "4            Chilis restaurant & party center, banasree  ...  90.425884\n",
              "...                                                 ...  ...        ...\n",
              "61817  Tasty Treat-Tongi Bazar টেস্টি ট্রিট- টংগী বাজার  ...  90.401566\n",
              "61820                                 Haresa Enterprise  ...  90.402554\n",
              "61831                              Mamas Chotpoti Fuska  ...  90.404019\n",
              "61845                          Maa Hotel And Restaurant  ...  90.402321\n",
              "61882                                  Sohana Fast food  ...  90.401050\n",
              "\n",
              "[2734 rows x 4 columns]"
            ]
          },
          "metadata": {},
          "execution_count": 10
        }
      ]
    }
  ]
}